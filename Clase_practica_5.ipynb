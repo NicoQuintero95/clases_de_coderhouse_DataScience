{
  "nbformat": 4,
  "nbformat_minor": 0,
  "metadata": {
    "colab": {
      "provenance": [],
      "authorship_tag": "ABX9TyMAPcq8RMerQ+xMFa6DLlDU",
      "include_colab_link": true
    },
    "kernelspec": {
      "name": "python3",
      "display_name": "Python 3"
    },
    "language_info": {
      "name": "python"
    }
  },
  "cells": [
    {
      "cell_type": "markdown",
      "metadata": {
        "id": "view-in-github",
        "colab_type": "text"
      },
      "source": [
        "<a href=\"https://colab.research.google.com/github/NicoQuintero95/clases_de_coderhouse_DataScience/blob/main/Clase_practica_5.ipynb\" target=\"_parent\"><img src=\"https://colab.research.google.com/assets/colab-badge.svg\" alt=\"Open In Colab\"/></a>"
      ]
    },
    {
      "cell_type": "code",
      "execution_count": 1,
      "metadata": {
        "colab": {
          "base_uri": "https://localhost:8080/"
        },
        "id": "hB16kUKP0BHR",
        "outputId": "0092363d-c3aa-4dee-c45e-dd14282a855b"
      },
      "outputs": [
        {
          "output_type": "stream",
          "name": "stdout",
          "text": [
            "Mi primer hola mundo\n"
          ]
        }
      ],
      "source": [
        "print('Mi primer hola mundo')"
      ]
    },
    {
      "cell_type": "code",
      "source": [],
      "metadata": {
        "id": "7WpVfZEG44f6"
      },
      "execution_count": null,
      "outputs": []
    },
    {
      "cell_type": "code",
      "source": [],
      "metadata": {
        "id": "WoEaf45C6A1k"
      },
      "execution_count": null,
      "outputs": []
    },
    {
      "cell_type": "code",
      "source": [],
      "metadata": {
        "id": "jy2bl8xp6SfP"
      },
      "execution_count": null,
      "outputs": []
    }
  ]
}