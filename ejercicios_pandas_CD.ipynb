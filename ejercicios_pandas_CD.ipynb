{
  "nbformat": 4,
  "nbformat_minor": 0,
  "metadata": {
    "colab": {
      "provenance": [],
      "authorship_tag": "ABX9TyN6zerMtbwXAQ3QLSVdvRyT",
      "include_colab_link": true
    },
    "kernelspec": {
      "name": "python3",
      "display_name": "Python 3"
    },
    "language_info": {
      "name": "python"
    }
  },
  "cells": [
    {
      "cell_type": "markdown",
      "metadata": {
        "id": "view-in-github",
        "colab_type": "text"
      },
      "source": [
        "<a href=\"https://colab.research.google.com/github/NicoQuintero95/clases_de_coderhouse_DataScience/blob/main/ejercicios_pandas_CD.ipynb\" target=\"_parent\"><img src=\"https://colab.research.google.com/assets/colab-badge.svg\" alt=\"Open In Colab\"/></a>"
      ]
    },
    {
      "cell_type": "markdown",
      "source": [
        "Ejercicio 1: construir una función que permita calcular el volumen de un cilindro, el programa debe permitir que el usuario pueda ingresar\n",
        "altura y radio. Si uno de estos valores es negativo, debe notificar al usuario por pantalla"
      ],
      "metadata": {
        "id": "fEohhWG2AJGa"
      }
    },
    {
      "cell_type": "code",
      "source": [
        "altura = float(input('Ingresar la altura del cilindro: '))\n",
        "radio = float(input('Ingresar el radio del cilindro: '))\n",
        "\n",
        "volumen = 3.14*radio**2*altura\n",
        "volumen"
      ],
      "metadata": {
        "colab": {
          "base_uri": "https://localhost:8080/"
        },
        "id": "yt0WVO3rAHs2",
        "outputId": "76ea0fc5-0c63-4dac-c4e6-0655f4e6c2b1"
      },
      "execution_count": 10,
      "outputs": [
        {
          "name": "stdout",
          "output_type": "stream",
          "text": [
            "Ingresar la altura del cilindro: 4\n",
            "Ingresar el radio del cilindro: 2\n"
          ]
        },
        {
          "output_type": "execute_result",
          "data": {
            "text/plain": [
              "50.24"
            ]
          },
          "metadata": {},
          "execution_count": 10
        }
      ]
    },
    {
      "cell_type": "code",
      "source": [],
      "metadata": {
        "id": "7uvPN1g5AxeV"
      },
      "execution_count": null,
      "outputs": []
    }
  ]
}