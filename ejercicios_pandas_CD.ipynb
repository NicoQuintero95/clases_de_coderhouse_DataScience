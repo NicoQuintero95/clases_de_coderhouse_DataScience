{
  "nbformat": 4,
  "nbformat_minor": 0,
  "metadata": {
    "colab": {
      "provenance": [],
      "authorship_tag": "ABX9TyMunhn2IbkOobSzHj8299+Y",
      "include_colab_link": true
    },
    "kernelspec": {
      "name": "python3",
      "display_name": "Python 3"
    },
    "language_info": {
      "name": "python"
    }
  },
  "cells": [
    {
      "cell_type": "markdown",
      "metadata": {
        "id": "view-in-github",
        "colab_type": "text"
      },
      "source": [
        "<a href=\"https://colab.research.google.com/github/NicoQuintero95/clases_de_coderhouse_DataScience/blob/main/ejercicios_pandas_CD.ipynb\" target=\"_parent\"><img src=\"https://colab.research.google.com/assets/colab-badge.svg\" alt=\"Open In Colab\"/></a>"
      ]
    },
    {
      "cell_type": "markdown",
      "source": [
        "Ejercicio 1: construir una función que permita calcular el volumen de un cilindro, el programa debe permitir que el usuario pueda ingresar\n",
        "altura y radio. Si uno de estos valores es negativo, debe notificar al usuario por pantalla"
      ],
      "metadata": {
        "id": "fEohhWG2AJGa"
      }
    },
    {
      "cell_type": "code",
      "source": [
        "def v_cilindro():\n",
        "\n",
        "    altura = float(input('Ingresar la altura del cilindro: '))\n",
        "    radio = float(input('Ingresar el radio del cilindro: '))\n",
        "\n",
        "    if altura <0 or radio <0:\n",
        "      print('Ha ingresado uno o dos valores negativos, por favor revisarlo')\n",
        "    else:\n",
        "      volumen = 3.14*radio**2*altura\n",
        "      print('El volumen resultante es: ', volumen)"
      ],
      "metadata": {
        "id": "yt0WVO3rAHs2"
      },
      "execution_count": 7,
      "outputs": []
    },
    {
      "cell_type": "code",
      "source": [
        "v_cilindro()"
      ],
      "metadata": {
        "id": "7uvPN1g5AxeV",
        "colab": {
          "base_uri": "https://localhost:8080/"
        },
        "outputId": "f36a1739-79c8-47b0-e129-d4cc5bdaa98f"
      },
      "execution_count": 8,
      "outputs": [
        {
          "output_type": "stream",
          "name": "stdout",
          "text": [
            "Ingresar la altura del cilindro: 4\n",
            "Ingresar el radio del cilindro: 2\n",
            "El volumen resultante es:  50.24\n"
          ]
        }
      ]
    },
    {
      "cell_type": "code",
      "source": [],
      "metadata": {
        "id": "ToVzL1L6zoel"
      },
      "execution_count": null,
      "outputs": []
    }
  ]
}